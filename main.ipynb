{
 "cells": [
  {
   "cell_type": "code",
   "execution_count": 1,
   "metadata": {},
   "outputs": [
    {
     "name": "stdout",
     "output_type": "stream",
     "text": [
      "<Response [200]>\n"
     ]
    }
   ],
   "source": [
    "# Scraping IPL20 Auction data \n",
    "\n",
    "import requests\n",
    "from bs4 import BeautifulSoup as bs\n",
    "import pandas as pd\n",
    "import openpyxl\n",
    "\n",
    "url = \"https://www.iplt20.com/auction/2022\"\n",
    "r = requests.get(url)\n",
    "\n",
    "# Parsing HTML\n",
    "soup = bs(r.text, \"html.parser\")\n",
    "#print(soup.prettify())\n",
    "\n",
    "# Writing the HTML to a file for later use\n",
    "with open(\"ipl2022.html\", \"wb\") as file:\n",
    "    file.write(r.content)\n",
    "\n",
    "print(r)"
   ]
  },
  {
   "cell_type": "code",
   "execution_count": 2,
   "metadata": {},
   "outputs": [
    {
     "name": "stdout",
     "output_type": "stream",
     "text": [
      "['TEAM', 'FUNDS REMAINING', 'OVERSEAS PLAYERS ', 'TOTAL PLAYERS']\n"
     ]
    },
    {
     "data": {
      "text/html": [
       "<div>\n",
       "<style scoped>\n",
       "    .dataframe tbody tr th:only-of-type {\n",
       "        vertical-align: middle;\n",
       "    }\n",
       "\n",
       "    .dataframe tbody tr th {\n",
       "        vertical-align: top;\n",
       "    }\n",
       "\n",
       "    .dataframe thead th {\n",
       "        text-align: right;\n",
       "    }\n",
       "</style>\n",
       "<table border=\"1\" class=\"dataframe\">\n",
       "  <thead>\n",
       "    <tr style=\"text-align: right;\">\n",
       "      <th></th>\n",
       "      <th>TEAM</th>\n",
       "      <th>FUNDS REMAINING</th>\n",
       "      <th>OVERSEAS PLAYERS</th>\n",
       "      <th>TOTAL PLAYERS</th>\n",
       "    </tr>\n",
       "  </thead>\n",
       "  <tbody>\n",
       "  </tbody>\n",
       "</table>\n",
       "</div>"
      ],
      "text/plain": [
       "Empty DataFrame\n",
       "Columns: [TEAM, FUNDS REMAINING, OVERSEAS PLAYERS , TOTAL PLAYERS]\n",
       "Index: []"
      ]
     },
     "execution_count": 2,
     "metadata": {},
     "output_type": "execute_result"
    }
   ],
   "source": [
    "# Finding the table and filter the text to extract headings\n",
    "\n",
    "table = soup.find(\"table\", class_ = \"ih-td-tab auction-tbl\")\n",
    "#print(table)\n",
    "\n",
    "title = table.find_all(\"th\")\n",
    "#print(title)\n",
    "header = []\n",
    "for i in title:\n",
    "    name = i.text\n",
    "    header.append(name)\n",
    "\n",
    "print(header)\n",
    "\n",
    "# creating a dataframe for better visuals\n",
    "df = pd.DataFrame(columns=header)\n",
    "df"
   ]
  },
  {
   "cell_type": "code",
   "execution_count": 3,
   "metadata": {},
   "outputs": [
    {
     "name": "stdout",
     "output_type": "stream",
     "text": [
      "                          TEAM FUNDS REMAINING OVERSEAS PLAYERS  TOTAL PLAYERS\n",
      "0          Chennai Super Kings    ₹2,95,00,000                 8            25\n",
      "1               Delhi Capitals      ₹10,00,000                 7            24\n",
      "2               Gujarat Titans      ₹15,00,000                 8            23\n",
      "3        Kolkata Knight Riders      ₹45,00,000                 8            25\n",
      "4         Lucknow Super Giants              ₹0                 7            21\n",
      "5               Mumbai Indians      ₹10,00,000                 8            25\n",
      "6                 Punjab Kings    ₹3,45,00,000                 7            25\n",
      "7             Rajasthan Royals      ₹95,00,000                 8            24\n",
      "8  Royal Challengers Bangalore    ₹1,55,00,000                 8            22\n",
      "9          Sunrisers Hyderabad      ₹10,00,000                 8            23\n"
     ]
    }
   ],
   "source": [
    "# finding Team rows data\n",
    "\n",
    "rows = table.find_all(\"tr\")\n",
    "#print(rows)\n",
    "\n",
    "for i in rows[1:]:\n",
    "    first_td = i.find_all(\"td\")[0].find(\"div\",class_ = \"ih-pt-ic\").text.strip()\n",
    "    data = i.find_all(\"td\")[1:]\n",
    "    row = [tr.text for tr in data]\n",
    "    row.insert(0,first_td)\n",
    "    l = len(df)\n",
    "    df.loc[l]=row\n",
    "print(df)\n",
    "df.to_excel(\"ipl2022_auction.xlsx\")"
   ]
  },
  {
   "cell_type": "code",
   "execution_count": null,
   "metadata": {},
   "outputs": [],
   "source": []
  }
 ],
 "metadata": {
  "kernelspec": {
   "display_name": "Python 3",
   "language": "python",
   "name": "python3"
  },
  "language_info": {
   "codemirror_mode": {
    "name": "ipython",
    "version": 3
   },
   "file_extension": ".py",
   "mimetype": "text/x-python",
   "name": "python",
   "nbconvert_exporter": "python",
   "pygments_lexer": "ipython3",
   "version": "3.11.4"
  },
  "orig_nbformat": 4
 },
 "nbformat": 4,
 "nbformat_minor": 2
}
